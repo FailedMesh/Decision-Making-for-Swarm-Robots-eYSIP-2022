{
 "cells": [
  {
   "cell_type": "code",
   "execution_count": 2,
   "id": "2a862c59",
   "metadata": {},
   "outputs": [],
   "source": [
    "import gym\n",
    "import numpy as np\n",
    "import time\n",
    "import random\n",
    "from IPython.display import clear_output\n",
    "import matplotlib.pyplot as plt "
   ]
  },
  {
   "cell_type": "code",
   "execution_count": 3,
   "id": "38fa0c4d",
   "metadata": {},
   "outputs": [],
   "source": [
    "env = gym.make('Taxi-v3').env"
   ]
  },
  {
   "cell_type": "code",
   "execution_count": 4,
   "id": "3ee37216",
   "metadata": {},
   "outputs": [],
   "source": [
    "action_array = ['south', 'north', 'east', 'west', 'pickup', 'drop']\n",
    "passenger_loc = ['red', 'green', 'yellow', 'blue', 'taxi']\n",
    "passenger_dest = ['red', 'green', 'yellow', 'blue']"
   ]
  },
  {
   "cell_type": "code",
   "execution_count": 5,
   "id": "ca874175",
   "metadata": {},
   "outputs": [
    {
     "data": {
      "text/plain": [
       "500"
      ]
     },
     "execution_count": 5,
     "metadata": {},
     "output_type": "execute_result"
    }
   ],
   "source": [
    "env.observation_space.n"
   ]
  },
  {
   "cell_type": "code",
   "execution_count": 79,
   "id": "ce2a7844",
   "metadata": {},
   "outputs": [],
   "source": [
    "class Agent():\n",
    "    \n",
    "    def __init__(self, env):\n",
    "        self.env = env\n",
    "        self.values = np.zeros((env.observation_space.n, env.action_space.n))\n",
    "        self.num_visited = np.zeros((env.observation_space.n, env.action_space.n))\n",
    "        self.average_rewards = []\n",
    "        self.num_timesteps = []\n",
    "        self.success_rates = []\n",
    "        self.num_episodes = 0\n",
    "        #self.policy = np.ones((env.observation_space.n, env.action_space.n))*(1/env.action_space.n)\n",
    "        \n",
    "    def generate_episode(self, epsilon = 0.2):\n",
    "        state = self.env.reset()\n",
    "        states = []\n",
    "        actions = []\n",
    "        rewards = [0]\n",
    "        count = 0\n",
    "        \n",
    "        while True:\n",
    "            action_space = self.values[state, :]\n",
    "            action_choices = np.arange(action_space.size)\n",
    "            if np.all(action_space == action_space[0]):\n",
    "                action = np.random.choice(action_choices)\n",
    "            else:\n",
    "                explore = np.random.choice([False, True], p = [1 - epsilon, epsilon])\n",
    "                if explore:\n",
    "                    optimal_action = np.argmax(action_space)\n",
    "                    action_choices = np.delete(action_choices, optimal_action)\n",
    "                    action = np.random.choice(action_choices)\n",
    "                else:\n",
    "                    action = np.argmax(action_space)\n",
    "                    \n",
    "            states.append(state)\n",
    "            actions.append(action)\n",
    "            state, reward, done, info = self.env.step(action)\n",
    "            count += 1\n",
    "            rewards.append(reward)\n",
    "            if reward == 20:\n",
    "                success = True\n",
    "                break\n",
    "            if reward == -10:\n",
    "                success = False\n",
    "                break\n",
    "        \n",
    "        return states, actions, rewards, count, success\n",
    "            \n",
    "    def update_policy(self, gamma = 1, num_episodes = 10, epsilon = 0.2):\n",
    "        print(self.env.render(mode = 'ansi'))\n",
    "        _ = input(\"Press enter to start generating episodes\")\n",
    "        successful_runs = 0\n",
    "        for i in range(num_episodes):\n",
    "            states, actions, rewards, count, success = self.generate_episode(epsilon = epsilon)\n",
    "            if success:\n",
    "                successful_runs += 1\n",
    "            self.success_rates.append((successful_runs*100/(self.num_episodes+i+1)))\n",
    "            ret = 0\n",
    "            for t in range(len(states) - 1, -1, -1):\n",
    "                ret = gamma*ret + rewards[t+1]\n",
    "                state = states[t]\n",
    "                action = actions[t]\n",
    "                num_visits = self.num_visited[state, action]\n",
    "                self.values[state, action] = (num_visits*self.values[state, action] + ret)/(num_visits + 1)\n",
    "                self.num_visited[state, action] += 1\n",
    "            self.average_rewards.append(np.sum(rewards)/count)\n",
    "            self.num_timesteps.append(count)\n",
    "            print(\"Episode number = \", i)\n",
    "            clear_output(wait=True)\n",
    "        self.num_episodes += num_episodes\n",
    "        return successful_runs\n",
    "    \n",
    "    def analyse_episode(self):\n",
    "        state = self.env.reset()\n",
    "        rewards = [0]\n",
    "        count = 0\n",
    "        \n",
    "        while True:\n",
    "            clear_output(wait=True)\n",
    "            print(self.env.render(mode = 'ansi'))\n",
    "            current_state = list(env.decode(state))\n",
    "            print(\"Step : \", count)\n",
    "            print('Grid Position = ', [current_state[0], current_state[1]])\n",
    "            print(\"Passenger Location = \", passenger_loc[current_state[2]])\n",
    "            print(\"Passenger Destination = \", passenger_dest[current_state[3]])\n",
    "            action_space = self.values[state, :]\n",
    "            print(\"Action Space = \", action_space)\n",
    "            best_action = np.argmax(action_space)\n",
    "            print(\"Best Action here = \", action_array[best_action])\n",
    "            time.sleep(2)\n",
    "            state, reward, done, info = self.env.step(best_action)\n",
    "            print(\"Reward Recieved = \", reward)\n",
    "            count += 1\n",
    "            if reward == 20:\n",
    "                clear_output(wait=True)\n",
    "                print(self.env.render(mode = 'ansi'))\n",
    "                print(\"SUCCESSFULLY DROPPED PASSENGER\")\n",
    "                break\n",
    "            if reward == -10:\n",
    "                clear_output(wait=True)\n",
    "                print(self.env.render(mode = 'ansi'))\n",
    "                print('FAILED OPERATION')\n",
    "                break"
   ]
  },
  {
   "cell_type": "code",
   "execution_count": 80,
   "id": "fbf4bfb9",
   "metadata": {},
   "outputs": [],
   "source": [
    "agent = Agent(env)"
   ]
  },
  {
   "cell_type": "code",
   "execution_count": 89,
   "id": "6c34c908",
   "metadata": {
    "scrolled": true
   },
   "outputs": [
    {
     "name": "stdout",
     "output_type": "stream",
     "text": [
      "+---------+\n",
      "|R: | : :G|\n",
      "|\u001b[43m \u001b[0m: | : : |\n",
      "| : : : : |\n",
      "| | : | : |\n",
      "|\u001b[34;1mY\u001b[0m| : |\u001b[35mB\u001b[0m: |\n",
      "+---------+\n",
      "  (West)\n",
      "\n",
      "Step :  69\n",
      "Grid Position =  [1, 0]\n",
      "Passenger Location =  yellow\n",
      "Passenger Destination =  blue\n",
      "Action Space =  [-31.5 -14.  -12.    0.  -10.  -10. ]\n",
      "Best Action here =  west\n"
     ]
    },
    {
     "ename": "KeyboardInterrupt",
     "evalue": "",
     "output_type": "error",
     "traceback": [
      "\u001b[1;31m---------------------------------------------------------------------------\u001b[0m",
      "\u001b[1;31mKeyboardInterrupt\u001b[0m                         Traceback (most recent call last)",
      "Input \u001b[1;32mIn [89]\u001b[0m, in \u001b[0;36m<cell line: 1>\u001b[1;34m()\u001b[0m\n\u001b[1;32m----> 1\u001b[0m \u001b[43magent\u001b[49m\u001b[38;5;241;43m.\u001b[39;49m\u001b[43manalyse_episode\u001b[49m\u001b[43m(\u001b[49m\u001b[43m)\u001b[49m\n",
      "Input \u001b[1;32mIn [79]\u001b[0m, in \u001b[0;36mAgent.analyse_episode\u001b[1;34m(self)\u001b[0m\n\u001b[0;32m     87\u001b[0m best_action \u001b[38;5;241m=\u001b[39m np\u001b[38;5;241m.\u001b[39margmax(action_space)\n\u001b[0;32m     88\u001b[0m \u001b[38;5;28mprint\u001b[39m(\u001b[38;5;124m\"\u001b[39m\u001b[38;5;124mBest Action here = \u001b[39m\u001b[38;5;124m\"\u001b[39m, action_array[best_action])\n\u001b[1;32m---> 89\u001b[0m \u001b[43mtime\u001b[49m\u001b[38;5;241;43m.\u001b[39;49m\u001b[43msleep\u001b[49m\u001b[43m(\u001b[49m\u001b[38;5;241;43m2\u001b[39;49m\u001b[43m)\u001b[49m\n\u001b[0;32m     90\u001b[0m state, reward, done, info \u001b[38;5;241m=\u001b[39m \u001b[38;5;28mself\u001b[39m\u001b[38;5;241m.\u001b[39menv\u001b[38;5;241m.\u001b[39mstep(best_action)\n\u001b[0;32m     91\u001b[0m \u001b[38;5;28mprint\u001b[39m(\u001b[38;5;124m\"\u001b[39m\u001b[38;5;124mReward Recieved = \u001b[39m\u001b[38;5;124m\"\u001b[39m, reward)\n",
      "\u001b[1;31mKeyboardInterrupt\u001b[0m: "
     ]
    }
   ],
   "source": [
    "agent.analyse_episode()"
   ]
  },
  {
   "cell_type": "code",
   "execution_count": 86,
   "id": "382337a7",
   "metadata": {
    "scrolled": false
   },
   "outputs": [
    {
     "name": "stdout",
     "output_type": "stream",
     "text": [
      "Episode number =  999\n"
     ]
    }
   ],
   "source": [
    "successful_runs = agent.update_policy(num_episodes = 1000)"
   ]
  },
  {
   "cell_type": "code",
   "execution_count": 83,
   "id": "605e89b5",
   "metadata": {},
   "outputs": [
    {
     "data": {
      "text/plain": [
       "0"
      ]
     },
     "execution_count": 83,
     "metadata": {},
     "output_type": "execute_result"
    }
   ],
   "source": [
    "successful_runs"
   ]
  },
  {
   "cell_type": "code",
   "execution_count": 87,
   "id": "22ca1b15",
   "metadata": {},
   "outputs": [
    {
     "data": {
      "text/plain": [
       "[<matplotlib.lines.Line2D at 0x1e597b7f250>]"
      ]
     },
     "execution_count": 87,
     "metadata": {},
     "output_type": "execute_result"
    },
    {
     "data": {
      "image/png": "[encoded data removed]",
      "text/plain": [
       "<Figure size 432x288 with 1 Axes>"
      ]
     },
     "metadata": {
      "needs_background": "light"
     },
     "output_type": "display_data"
    }
   ],
   "source": [
    "plt.plot(agent.average_rewards)"
   ]
  },
  {
   "cell_type": "code",
   "execution_count": 88,
   "id": "09c28e83",
   "metadata": {},
   "outputs": [
    {
     "data": {
      "text/plain": [
       "array([[  0.        ,   0.        ,   0.        ,   0.        ,\n",
       "          0.        ,   0.        ],\n",
       "       [-14.        , -11.        , -15.        , -12.        ,\n",
       "        -12.        , -10.        ],\n",
       "       [-14.        , -15.5       , -14.        , -18.        ,\n",
       "        -12.33333333, -10.        ],\n",
       "       ...,\n",
       "       [  0.        ,   0.        ,   0.        ,   0.        ,\n",
       "          0.        ,   0.        ],\n",
       "       [-24.875     , -24.        , -16.        , -13.        ,\n",
       "          0.        , -10.        ],\n",
       "       [  0.        ,   0.        ,   0.        ,   0.        ,\n",
       "          0.        ,   0.        ]])"
      ]
     },
     "execution_count": 88,
     "metadata": {},
     "output_type": "execute_result"
    }
   ],
   "source": [
    "agent.values"
   ]
  },
  {
   "cell_type": "code",
   "execution_count": 49,
   "id": "f1d21a94",
   "metadata": {},
   "outputs": [],
   "source": [
    "value_saver = np.copy(agent.values)"
   ]
  },
  {
   "cell_type": "code",
   "execution_count": 51,
   "id": "df40ecf2",
   "metadata": {},
   "outputs": [],
   "source": [
    "agent.values = np.copy(value_saver)"
   ]
  },
  {
   "cell_type": "code",
   "execution_count": 65,
   "id": "c06192f4",
   "metadata": {},
   "outputs": [],
   "source": [
    "agent.env.close()"
   ]
  },
  {
   "cell_type": "code",
   "execution_count": 37,
   "id": "5e981000",
   "metadata": {},
   "outputs": [],
   "source": [
    "env.close()"
   ]
  },
  {
   "cell_type": "code",
   "execution_count": 36,
   "id": "bfd2ce32",
   "metadata": {},
   "outputs": [
    {
     "name": "stdout",
     "output_type": "stream",
     "text": [
      "None\n"
     ]
    },
    {
     "ename": "KeyboardInterrupt",
     "evalue": "",
     "output_type": "error",
     "traceback": [
      "\u001b[1;31m---------------------------------------------------------------------------\u001b[0m",
      "\u001b[1;31mKeyboardInterrupt\u001b[0m                         Traceback (most recent call last)",
      "Input \u001b[1;32mIn [36]\u001b[0m, in \u001b[0;36m<cell line: 7>\u001b[1;34m()\u001b[0m\n\u001b[0;32m     18\u001b[0m     \u001b[38;5;28;01mbreak\u001b[39;00m\n\u001b[0;32m     19\u001b[0m \u001b[38;5;28mprint\u001b[39m(env\u001b[38;5;241m.\u001b[39mrender())\n\u001b[1;32m---> 20\u001b[0m \u001b[43mtime\u001b[49m\u001b[38;5;241;43m.\u001b[39;49m\u001b[43msleep\u001b[49m\u001b[43m(\u001b[49m\u001b[38;5;241;43m1\u001b[39;49m\u001b[43m)\u001b[49m\n",
      "\u001b[1;31mKeyboardInterrupt\u001b[0m: "
     ]
    }
   ],
   "source": [
    "env = gym.make('Taxi-v3')\n",
    "env.close()\n",
    "state = env.reset()\n",
    "#print(list(env.decode(state)))\n",
    "print(env.render(mode = 'ansi'))\n",
    "_ = input(\"Press Enter\")\n",
    "for _ in range(200):\n",
    "    action = np.random.choice(np.arange(4))\n",
    "    state, reward, done, info = env.step(action)\n",
    "    print(\"Reward = \", reward)\n",
    "    state_tuple = list(env.decode(state))\n",
    "    print('Grid Position = ', [state_tuple[0], state_tuple[1]])\n",
    "    print(\"Passenger Location = \", passenger_loc[state_tuple[2]])\n",
    "    print(\"Passenger Destination = \", passenger_dest[state_tuple[3]])\n",
    "    print(\"Action Taken = \", action_array[action])\n",
    "    clear_output(wait=True)\n",
    "    if done:\n",
    "        break\n",
    "    print(env.render())\n",
    "    time.sleep(1)"
   ]
  },
  {
   "cell_type": "code",
   "execution_count": 10,
   "id": "535842b7",
   "metadata": {},
   "outputs": [
    {
     "name": "stdout",
     "output_type": "stream",
     "text": [
      "Help on method render in module gym.core:\n",
      "\n",
      "render(**kwargs) method of gym.wrappers.time_limit.TimeLimit instance\n",
      "    Renders the environment with kwargs.\n",
      "\n"
     ]
    }
   ],
   "source": [
    "help(env.render)"
   ]
  }
 ],
 "metadata": {
  "kernelspec": {
   "display_name": "Reinforcement_Learning",
   "language": "python",
   "name": "reinforcement_learning"
  },
  "language_info": {
   "codemirror_mode": {
    "name": "ipython",
    "version": 3
   },
   "file_extension": ".py",
   "mimetype": "text/x-python",
   "name": "python",
   "nbconvert_exporter": "python",
   "pygments_lexer": "ipython3",
   "version": "3.8.13"
  }
 },
 "nbformat": 4,
 "nbformat_minor": 5
}
